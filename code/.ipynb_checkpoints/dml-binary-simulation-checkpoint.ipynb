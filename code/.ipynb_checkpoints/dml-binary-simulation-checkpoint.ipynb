{
 "cells": [
  {
   "cell_type": "markdown",
   "id": "c410edd9",
   "metadata": {},
   "source": [
    "# Simulation example\n",
    "\n",
    "In this notebook, we'll work with simulated data from the folloeing causal model:\n",
    "\n",
    "\\begin{equation*}\n",
    "\\log\\left(\\frac{p}{1 - p}\\right) = \\theta t + g\\left(\\boldsymbol{x}\\right),\n",
    "\\end{equation*}\n",
    "where $p = Pr\\left(Y = 1 | t, \\boldsymbol{x}\\right)$ and the nuisance functions are given by\n",
    "\\begin{align*}\n",
    "  g\\left(\\boldsymbol{x}\\right) &= 10  \\sin\\left(\\pi x_1\\right) - 5  \\cos\\left(x_2\\right) + 20 x_3^2 + 10 x_4 + 5 x_5,\\\\\n",
    "  m\\left(\\boldsymbol{x}\\right)  &= 3 \\sin\\left(x_1\\right) + \\left(\\frac{1}{4}\\right)\\frac{\\exp\\left(x_2\\right)}{1 + \\exp\\left(x_2\\right)} - 2  x_3^2 + 2 x_4 + 2 x_5 = E\\left(t|\\boldsymbol{x}\\right),\n",
    "\\end{align*}"
   ]
  },
  {
   "cell_type": "markdown",
   "id": "12af2a0a",
   "metadata": {},
   "source": [
    "# Setup"
   ]
  },
  {
   "cell_type": "code",
   "execution_count": 1,
   "id": "ca39a128",
   "metadata": {},
   "outputs": [],
   "source": [
    "#%pip install numpy scipy matplotlib sklearn pygam doubleml "
   ]
  },
  {
   "cell_type": "code",
   "execution_count": 11,
   "id": "db3010fb",
   "metadata": {},
   "outputs": [],
   "source": [
    "import numpy as np\n",
    "import matplotlib.pyplot as plt\n",
    "\n",
    "from scipy.stats import logistic\n",
    "from pygam import l, s, LogisticGAM, LinearGAM\n",
    "from doubleml import DoubleMLData, DoubleMLPLR\n",
    "from sklearn.ensemble import RandomForestRegressor\n",
    "from sklearn.base import clone\n",
    "\n",
    "\n",
    "def gen_data(n_samples=100, n_features=5):\n",
    "    \"\"\" Generate data for the simulation.\n",
    "\n",
    "    Parameters\n",
    "    ----------\n",
    "    n_samples : int\n",
    "        Number of samples to generate.\n",
    "    n_features : int\n",
    "        Number of features to generate.\n",
    "\n",
    "    Returns\n",
    "    -------\n",
    "    z : array-like\n",
    "        Continuous outcome.\n",
    "    y : array-like\n",
    "        Binary outcome.\n",
    "    d : array-like\n",
    "        Treatment variable.\n",
    "    X : array-like\n",
    "        Matrix of covariates.\n",
    "    \"\"\"\n",
    "    X = np.random.uniform(0, 1, (n_samples, n_features))  # covariates/confounders\n",
    "    t = (3 * np.sin(X[:, 0]) + 0.25 * np.exp(X[:, 1]) / (1 + np.exp(X[:, 1])) -  # treatment variable of interest\n",
    "         2 * X[:, 2]**2 + np.dot(X[:, 3:5], np.array([2, 2])) + \n",
    "         np.random.normal(0, 1, n_samples))\n",
    "    # Generate continuous latent (i.e., unobserved) response; for more details, see\n",
    "    # https://en.wikipedia.org/wiki/Logistic_regression#As_a_latent-variable_model\n",
    "    z = (-30 + 5 * t + 10 * np.sin(np.pi * X[:, 0]) - 5 * np.cos(X[:, 1]) + \n",
    "         20 * X[:, 2]**2 + 10 * X[:, 3] + 5 * X[:, 4] + rlogit(n_samples))\n",
    "    y = (z > 0).astype(int)  # compute observed binary outcome\n",
    "    return z, y, t, X\n",
    "\n",
    "\n",
    "def rlogit(n=1, location=0, min_val=-np.inf, max_val=np.inf):\n",
    "    \"\"\" Simulate random variables from a truncated logistic distribution.\n",
    "\n",
    "    Parameters\n",
    "    ----------\n",
    "    n : int\n",
    "        Number of random variables to simulate.\n",
    "    location : float\n",
    "        Location parameter of the logistic distribution.\n",
    "    min_val : float\n",
    "        Lower bound of the distribution.\n",
    "    max_val : float\n",
    "        Upper bound of the distribution.\n",
    "\n",
    "    Returns\n",
    "    -------\n",
    "    array-like\n",
    "        Simulated random variables.\n",
    "    \"\"\"\n",
    "    u = np.random.uniform(0, 1, n)\n",
    "    plogis_min = logistic.cdf(min_val, loc=location)\n",
    "    plogis_max = logistic.cdf(max_val, loc=location)\n",
    "    qlogis = logistic.ppf(u * (plogis_max - plogis_min) + plogis_min, loc=location)\n",
    "    return qlogis\n",
    "\n",
    "\n",
    "def surrogate(y, linpred):\n",
    "    \"\"\" Simulate a surrogate outcome from a fitted logit model.\n",
    "\n",
    "    Parameters\n",
    "    ----------\n",
    "    y : array-like\n",
    "        Binary outcome.\n",
    "    linpred : array-like\n",
    "        Linear predictor.\n",
    "\n",
    "    Returns\n",
    "    -------\n",
    "    array-like\n",
    "        Simulated surrogate outcome.\n",
    "    \"\"\"\n",
    "    n = len(linpred)\n",
    "    min_v = np.full(n, -np.inf)\n",
    "    max_v = np.full(n, np.inf)\n",
    "    min_v[y > 0.5] = 0\n",
    "    max_v[y < 0.5] = 0\n",
    "    return rlogit(n, location=linpred, min_val=min_v, max_val=max_v)\n",
    "\n",
    "\n",
    "def logit(p):\n",
    "    \"\"\" Compute the logit transformation of a probability.\n",
    "\n",
    "    Parameters\n",
    "    ----------\n",
    "    p : array-like\n",
    "        Probability values.\n",
    "    \"\"\"\n",
    "    p[p == 0] = 0.00000001  # to avoid division by zero\n",
    "    p[p == 1] = 0.99999999  # to avoid division by zero\n",
    "    return np.log(p / (1 - p))\n",
    "\n",
    "\n",
    "def dml_surrogate(y, trt, X):\n",
    "    \"\"\" Estimate the average treatment effect using the surrogate approach.\n",
    "\n",
    "    Parameters\n",
    "    ----------\n",
    "    y : array-like\n",
    "        Binary outcome.\n",
    "    trt : array-like\n",
    "        Treatment variable.\n",
    "    X : array-like\n",
    "        Matrix of covariates/confounders.\n",
    "\n",
    "    Returns\n",
    "    -------\n",
    "    float\n",
    "        Estimated average treatment effect.\n",
    "    \"\"\"\n",
    "    # Add treatment variable to the predictors/confounders\n",
    "    X_with_trt = np.column_stack((trt, X))\n",
    "    # Fit the full model using the treatment variable and confounders. Note that\n",
    "    # we force the treatment term to be linear, which is by assumption for DML\n",
    "    # with the PLR model. Additionally, based on \"domain knowledge,\" we also \n",
    "    # specify that both X4 and X4 are linear functions.\n",
    "    gam_full = LogisticGAM(l(0) + s(1) + s(2) + s(3) + l(4) + l(5)).fit(X_with_trt, y)\n",
    "    # Get the predictions on the logit scale\n",
    "    pred = logit(gam_full.predict_mu(X_with_trt))\n",
    "    # Simulate the surrogate outcome\n",
    "    sur = surrogate(y=y, linpred=pred)\n",
    "    # Proceed with double ML using the (continuous) surrogate outcome\n",
    "    gam_sur = LinearGAM(s(0) + s(1) + s(2) + l(3) + l(4)).fit(X, sur)\n",
    "    gam_trt = LinearGAM(s(0) + s(1) + s(2) + l(3) + l(4)).fit(X, trt)\n",
    "    resid_sur = gam_sur.predict(X) - sur  # denoising step\n",
    "    resid_trt = gam_trt.predict(X) - trt  # debiasing step\n",
    "    # Estimate average treatment effect (ATE) using ordinary least squares\n",
    "    ate = np.linalg.lstsq(resid_trt[:, np.newaxis], resid_sur, rcond=None)[0][0]\n",
    "    return ate"
   ]
  },
  {
   "cell_type": "markdown",
   "id": "f95cd798",
   "metadata": {},
   "source": [
    "# Double machine learning (DML) via the DoubleML package\n",
    "\n",
    "Some useful links:\n",
    "* [Package documentation](https://docs.doubleml.org/stable/index.html) for `DoubleML`.\n",
    "* [Original article](https://academic.oup.com/ectj/article/21/1/C1/5056401?login=false) introducing the DML procedure.\n",
    "\n",
    "According to [Lundberg et al. (2018)](https://shap.readthedocs.io/en/latest/example_notebooks/overviews/Be%20careful%20when%20interpreting%20predictive%20models%20in%20search%20of%20causal%20insights.html), DML essentially works as follows: \n",
    "1. Train a model to predict the treatment of interest (`t`) using an appropriate set of control variables (e.g., confounders). \n",
    "2. Train a model to predict the outcome (`y`) using the same set of control variables. \n",
    "3. Train a model to predict the residual variation of the outcome (the variation left after subtracting our prediction) using the residual variation of the treatment variables.\n",
    "\n",
    "**Note:** We're going to trick the DoubleML package by using a regression forest and treating the binary 0/1 outcome (`y`) as a continuous variable. This is not  normally a good idea, but a regression forest using squared error splitting with a binary outcome is exactly equivalent to a [probability forest](https://www.thieme-connect.de/products/ejournals/abstract/10.3414/ME00-01-0052), so here it just works. This way, we can illustrate the issue of using $y - p$ as a residual in the [DML algorithm assuming a partially linear regression (PLR) model](https://docs.doubleml.org/stable/guide/models.html#partially-linear-models-plm).\n",
    "\n",
    "Here, we're applying DML to both the underlying continuous (but unobserved) outcome `z` as well as the observed binary outcome `y`. In practice, we'll never observe `z` but this is to help illustrate that DML assuming a PLR model works quite well with continuous outcomes."
   ]
  },
  {
   "cell_type": "code",
   "execution_count": 5,
   "id": "4995d61f",
   "metadata": {},
   "outputs": [
    {
     "name": "stdout",
     "output_type": "stream",
     "text": [
      "[4.93242326] [0.18181102]\n"
     ]
    }
   ],
   "source": [
    "# Generate data\n",
    "np.random.seed(1310)\n",
    "z, y, trt, X = gen_data(10000)\n",
    "\n",
    "# Prepare data for DoubleML\n",
    "data_z = DoubleMLData.from_arrays(x=X, y=z, d=trt)  # underlying latent outcome\n",
    "data_y = DoubleMLData.from_arrays(x=X, y=y, d=trt)  # observed binary outcome\n",
    "\n",
    "# Define learners\n",
    "learner = RandomForestRegressor(max_depth=10, n_estimators=500)\n",
    "ml_g = clone(learner)  # use a random forest to estimate g(x)\n",
    "ml_m = clone(learner)  # use a random forest to estimate m(x)\n",
    "\n",
    "# Initialize DoubleMLPLR models\n",
    "dml_plr_z = DoubleMLPLR(data_z, ml_g, ml_m, n_folds=5)\n",
    "dml_plr_y = DoubleMLPLR(data_y, ml_g, ml_m, n_folds=5)\n",
    "\n",
    "# Fit the models\n",
    "np.random.seed(7723)\n",
    "dml_plr_z.fit()\n",
    "dml_plr_y.fit()  # this will use y-p(y=1) for orthogonalization\n",
    "\n",
    "# Print coefficients\n",
    "print(dml_plr_z.coef, dml_plr_y.coef)  # [4.93242326] [0.18181102]"
   ]
  },
  {
   "cell_type": "markdown",
   "id": "71950127",
   "metadata": {},
   "source": [
    "DML can even produce confidence intervals!"
   ]
  },
  {
   "cell_type": "code",
   "execution_count": 7,
   "id": "3ac06153",
   "metadata": {},
   "outputs": [
    {
     "data": {
      "text/plain": [
       "(      2.5 %   97.5 %\n",
       " d  4.889387  4.97546,\n",
       "       2.5 %    97.5 %\n",
       " d  0.175471  0.188151)"
      ]
     },
     "execution_count": 7,
     "metadata": {},
     "output_type": "execute_result"
    }
   ],
   "source": [
    "dml_plr_z.confint(), dml_plr_y.confint()"
   ]
  },
  {
   "cell_type": "markdown",
   "id": "ff58d372",
   "metadata": {},
   "source": [
    "Yikes, applying DML using a binary outcome comepletely missed the mark here! In [Lundberg et al. (2018)](https://shap.readthedocs.io/en/latest/example_notebooks/overviews/Be%20careful%20when%20interpreting%20predictive%20models%20in%20search%20of%20causal%20insights.html) they claim that this approach is reasonable: \n",
    "\n",
    "> We use the regression formulation of double ML, so we need to approximate the classifer as a regression model. This treats the probabilities as just quantitative value targets for least squares regression, but it turns out to be a reasonable approximation.\n",
    "\n",
    "Treating predicted probabilitities in such a way (i.e., using the discrete residuals $y - p$) is problematic for a number of reasons. In the next section, we'll show a modified DML approach based on the surrogate idea discussed in [Cheng et al. (2020)](https://www.tandfonline.com/doi/full/10.1080/10618600.2020.1775618). (**Note:** this idea is exprimental and is currently being researched by my colleages and I.)"
   ]
  },
  {
   "cell_type": "markdown",
   "id": "95667c5b",
   "metadata": {},
   "source": [
    "# A modified DML approach using surrogate variables\n",
    "\n",
    "The approach we take here is similar to the ordinary DML algorithm assuming a PLR model, but we first generate a continuous *surrogate variable* for use in step 1. above. This produces a more natural residual with the usual properties. For flexibility, we use [generalized additive models](https://en.wikipedia.org/wiki/Generalized_additive_model#:~:text=In%20statistics%2C%20a%20generalized%20additive,inference%20about%20these%20smooth%20functions.) (GAMs) for estimating the full model, as well as the nuisance functions."
   ]
  },
  {
   "cell_type": "code",
   "execution_count": 13,
   "id": "c6f667e8",
   "metadata": {},
   "outputs": [
    {
     "name": "stdout",
     "output_type": "stream",
     "text": [
      "4.794847013460032\n"
     ]
    }
   ],
   "source": [
    "# Check results for a single simulation\n",
    "np.random.seed(1310)\n",
    "z, y, trt, X = gen_data(10000)\n",
    "ate = dml_surrogate(y=y, trt=trt, X=X)\n",
    "print(ate)  # 4.795"
   ]
  },
  {
   "cell_type": "markdown",
   "id": "640a83b9",
   "metadata": {},
   "source": [
    "Not bad!"
   ]
  },
  {
   "cell_type": "code",
   "execution_count": 15,
   "id": "46a3fc2f",
   "metadata": {},
   "outputs": [
    {
     "name": "stderr",
     "output_type": "stream",
     "text": [
      "/Users/b780620/.pyenv/versions/3.8.15/lib/python3.8/site-packages/pygam/links.py:149: RuntimeWarning: divide by zero encountered in divide\n",
      "  return dist.levels / (mu * (dist.levels - mu))\n",
      "/Users/b780620/.pyenv/versions/3.8.15/lib/python3.8/site-packages/pygam/pygam.py:627: RuntimeWarning: invalid value encountered in multiply\n",
      "  self.link.gradient(mu, self.distribution) ** 2\n",
      "/Users/b780620/.pyenv/versions/3.8.15/lib/python3.8/site-packages/pygam/links.py:149: RuntimeWarning: divide by zero encountered in divide\n",
      "  return dist.levels / (mu * (dist.levels - mu))\n",
      "/Users/b780620/.pyenv/versions/3.8.15/lib/python3.8/site-packages/pygam/pygam.py:627: RuntimeWarning: invalid value encountered in multiply\n",
      "  self.link.gradient(mu, self.distribution) ** 2\n",
      "/Users/b780620/.pyenv/versions/3.8.15/lib/python3.8/site-packages/pygam/links.py:149: RuntimeWarning: divide by zero encountered in divide\n",
      "  return dist.levels / (mu * (dist.levels - mu))\n",
      "/Users/b780620/.pyenv/versions/3.8.15/lib/python3.8/site-packages/pygam/pygam.py:627: RuntimeWarning: invalid value encountered in multiply\n",
      "  self.link.gradient(mu, self.distribution) ** 2\n",
      "/Users/b780620/.pyenv/versions/3.8.15/lib/python3.8/site-packages/pygam/links.py:149: RuntimeWarning: divide by zero encountered in divide\n",
      "  return dist.levels / (mu * (dist.levels - mu))\n",
      "/Users/b780620/.pyenv/versions/3.8.15/lib/python3.8/site-packages/pygam/pygam.py:627: RuntimeWarning: invalid value encountered in multiply\n",
      "  self.link.gradient(mu, self.distribution) ** 2\n",
      "/Users/b780620/.pyenv/versions/3.8.15/lib/python3.8/site-packages/pygam/links.py:149: RuntimeWarning: divide by zero encountered in divide\n",
      "  return dist.levels / (mu * (dist.levels - mu))\n",
      "/Users/b780620/.pyenv/versions/3.8.15/lib/python3.8/site-packages/pygam/pygam.py:627: RuntimeWarning: invalid value encountered in multiply\n",
      "  self.link.gradient(mu, self.distribution) ** 2\n",
      "/Users/b780620/.pyenv/versions/3.8.15/lib/python3.8/site-packages/pygam/links.py:149: RuntimeWarning: divide by zero encountered in divide\n",
      "  return dist.levels / (mu * (dist.levels - mu))\n",
      "/Users/b780620/.pyenv/versions/3.8.15/lib/python3.8/site-packages/pygam/pygam.py:627: RuntimeWarning: invalid value encountered in multiply\n",
      "  self.link.gradient(mu, self.distribution) ** 2\n",
      "/Users/b780620/.pyenv/versions/3.8.15/lib/python3.8/site-packages/pygam/links.py:149: RuntimeWarning: divide by zero encountered in divide\n",
      "  return dist.levels / (mu * (dist.levels - mu))\n",
      "/Users/b780620/.pyenv/versions/3.8.15/lib/python3.8/site-packages/pygam/pygam.py:627: RuntimeWarning: invalid value encountered in multiply\n",
      "  self.link.gradient(mu, self.distribution) ** 2\n",
      "/Users/b780620/.pyenv/versions/3.8.15/lib/python3.8/site-packages/pygam/links.py:149: RuntimeWarning: divide by zero encountered in divide\n",
      "  return dist.levels / (mu * (dist.levels - mu))\n",
      "/Users/b780620/.pyenv/versions/3.8.15/lib/python3.8/site-packages/pygam/pygam.py:627: RuntimeWarning: invalid value encountered in multiply\n",
      "  self.link.gradient(mu, self.distribution) ** 2\n",
      "/Users/b780620/.pyenv/versions/3.8.15/lib/python3.8/site-packages/pygam/links.py:149: RuntimeWarning: divide by zero encountered in divide\n",
      "  return dist.levels / (mu * (dist.levels - mu))\n",
      "/Users/b780620/.pyenv/versions/3.8.15/lib/python3.8/site-packages/pygam/pygam.py:627: RuntimeWarning: invalid value encountered in multiply\n",
      "  self.link.gradient(mu, self.distribution) ** 2\n",
      "/Users/b780620/.pyenv/versions/3.8.15/lib/python3.8/site-packages/pygam/links.py:149: RuntimeWarning: divide by zero encountered in divide\n",
      "  return dist.levels / (mu * (dist.levels - mu))\n",
      "/Users/b780620/.pyenv/versions/3.8.15/lib/python3.8/site-packages/pygam/pygam.py:627: RuntimeWarning: invalid value encountered in multiply\n",
      "  self.link.gradient(mu, self.distribution) ** 2\n",
      "/Users/b780620/.pyenv/versions/3.8.15/lib/python3.8/site-packages/pygam/links.py:149: RuntimeWarning: divide by zero encountered in divide\n",
      "  return dist.levels / (mu * (dist.levels - mu))\n",
      "/Users/b780620/.pyenv/versions/3.8.15/lib/python3.8/site-packages/pygam/pygam.py:627: RuntimeWarning: invalid value encountered in multiply\n",
      "  self.link.gradient(mu, self.distribution) ** 2\n",
      "/Users/b780620/.pyenv/versions/3.8.15/lib/python3.8/site-packages/pygam/links.py:149: RuntimeWarning: divide by zero encountered in divide\n",
      "  return dist.levels / (mu * (dist.levels - mu))\n",
      "/Users/b780620/.pyenv/versions/3.8.15/lib/python3.8/site-packages/pygam/pygam.py:627: RuntimeWarning: invalid value encountered in multiply\n",
      "  self.link.gradient(mu, self.distribution) ** 2\n",
      "/Users/b780620/.pyenv/versions/3.8.15/lib/python3.8/site-packages/pygam/links.py:149: RuntimeWarning: divide by zero encountered in divide\n",
      "  return dist.levels / (mu * (dist.levels - mu))\n",
      "/Users/b780620/.pyenv/versions/3.8.15/lib/python3.8/site-packages/pygam/pygam.py:627: RuntimeWarning: invalid value encountered in multiply\n",
      "  self.link.gradient(mu, self.distribution) ** 2\n",
      "/Users/b780620/.pyenv/versions/3.8.15/lib/python3.8/site-packages/pygam/links.py:149: RuntimeWarning: divide by zero encountered in divide\n",
      "  return dist.levels / (mu * (dist.levels - mu))\n",
      "/Users/b780620/.pyenv/versions/3.8.15/lib/python3.8/site-packages/pygam/pygam.py:627: RuntimeWarning: invalid value encountered in multiply\n",
      "  self.link.gradient(mu, self.distribution) ** 2\n"
     ]
    },
    {
     "name": "stdout",
     "output_type": "stream",
     "text": [
      "4.764729212990787\n"
     ]
    }
   ],
   "source": [
    "# Run a simple Monte Carlo simulation (this could take a while!)\n",
    "np.random.seed(1516)\n",
    "results = []\n",
    "for _ in range(100):\n",
    "    # Simulate data\n",
    "    _, y, trt, X = gen_data(10000)\n",
    "    # Estimate ATE\n",
    "    ate = dml_surrogate(y=y, trt=trt, X=X)\n",
    "    results.append(ate)\n",
    "results = np.array(results)\n",
    "print(np.mean(results))  # 4.765"
   ]
  },
  {
   "cell_type": "code",
   "execution_count": 16,
   "id": "93ac1ec8",
   "metadata": {},
   "outputs": [
    {
     "data": {
      "image/png": "[encoded data removed]",
      "text/plain": [
       "<Figure size 640x480 with 1 Axes>"
      ]
     },
     "metadata": {},
     "output_type": "display_data"
    }
   ],
   "source": [
    "# Plot the results\n",
    "plt.hist(results, bins=30, edgecolor='k', alpha=0.7)\n",
    "plt.xlabel('ATE')\n",
    "plt.ylabel('Frequency')\n",
    "plt.show()"
   ]
  },
  {
   "cell_type": "markdown",
   "id": "3646205b",
   "metadata": {},
   "source": [
    "While it doesn't seem unbiased, it certainly provides a reasonable estimate! The accuracy of this estimate also seems to increase with sample size."
   ]
  },
  {
   "cell_type": "code",
   "execution_count": null,
   "id": "2b60c775",
   "metadata": {},
   "outputs": [],
   "source": []
  }
 ],
 "metadata": {
  "kernelspec": {
   "display_name": "Python 3 (ipykernel)",
   "language": "python",
   "name": "python3"
  },
  "language_info": {
   "codemirror_mode": {
    "name": "ipython",
    "version": 3
   },
   "file_extension": ".py",
   "mimetype": "text/x-python",
   "name": "python",
   "nbconvert_exporter": "python",
   "pygments_lexer": "ipython3",
   "version": "3.10.4"
  }
 },
 "nbformat": 4,
 "nbformat_minor": 5
}
